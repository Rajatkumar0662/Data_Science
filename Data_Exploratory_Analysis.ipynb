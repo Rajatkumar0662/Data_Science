{
  "nbformat": 4,
  "nbformat_minor": 0,
  "metadata": {
    "colab": {
      "name": "Data Exploratory Analysis.ipynb",
      "provenance": [],
      "collapsed_sections": [],
      "authorship_tag": "ABX9TyPuRx+7wYpFJA4VZXfPtgAo",
      "include_colab_link": true
    },
    "kernelspec": {
      "name": "python3",
      "display_name": "Python 3"
    },
    "language_info": {
      "name": "python"
    }
  },
  "cells": [
    {
      "cell_type": "markdown",
      "metadata": {
        "id": "view-in-github",
        "colab_type": "text"
      },
      "source": [
        "<a href=\"https://colab.research.google.com/github/Rajatkumar0662/Data_Science/blob/main/Data_Exploratory_Analysis.ipynb\" target=\"_parent\"><img src=\"https://colab.research.google.com/assets/colab-badge.svg\" alt=\"Open In Colab\"/></a>"
      ]
    },
    {
      "cell_type": "markdown",
      "source": [
        "# Data Exploratory Analysis\n",
        "\n",
        "To make it work download 'data.csv' and store to specified location mentioned below i.e, make a folder in your Google Drive as 'Data_Science' and move the file 'data.csv' in that folder, make sure the file_name should be 'data.csv'.\n",
        "\n",
        "Notes: Make sure in this we have used clean data.\n",
        "\n",
        "\n",
        "Clean Data stored in location mentioned below:\n",
        "> Location: Data_Science/data.csv\n",
        "\n",
        "> File_name: data.csv\n",
        "\n"
      ],
      "metadata": {
        "id": "Ccocyq4j7SM7"
      }
    },
    {
      "cell_type": "markdown",
      "source": [
        "## Reading data as dataframe"
      ],
      "metadata": {
        "id": "6k0AEeL3JLnz"
      }
    },
    {
      "cell_type": "code",
      "execution_count": 1,
      "metadata": {
        "colab": {
          "base_uri": "https://localhost:8080/"
        },
        "id": "DTnn9T0i7Q1a",
        "outputId": "76487a00-bb6a-4920-e360-8d5bbd4aeb7f"
      },
      "outputs": [
        {
          "output_type": "stream",
          "name": "stdout",
          "text": [
            "Drive already mounted at /content/drive; to attempt to forcibly remount, call drive.mount(\"/content/drive\", force_remount=True).\n"
          ]
        }
      ],
      "source": [
        "from google.colab import drive\n",
        "\n",
        "# Accessing My Google Drive\n",
        "# will attempt to give access to your individual drives\n",
        "drive.mount('/content/drive')\n",
        "# On Success return with - Mounted at /content/drive"
      ]
    },
    {
      "cell_type": "code",
      "source": [
        "import pandas as pd\n",
        "import numpy as np\n",
        "from matplotlib import pyplot as plt"
      ],
      "metadata": {
        "id": "jHrTc_42LDZh"
      },
      "execution_count": 2,
      "outputs": []
    },
    {
      "cell_type": "code",
      "source": [
        "path = '/content/drive/MyDrive/Data_Science/data.csv'\n",
        "df = pd.read_csv(path)\n",
        "df.head()"
      ],
      "metadata": {
        "colab": {
          "base_uri": "https://localhost:8080/",
          "height": 302
        },
        "id": "g2wP3Xp8IT7x",
        "outputId": "c0d85251-0e2b-44bc-9f18-79578684e045"
      },
      "execution_count": 3,
      "outputs": [
        {
          "output_type": "execute_result",
          "data": {
            "text/plain": [
              "         Day  Average temperature (°F)  Average humidity (%)  \\\n",
              "0  1/01/2009                      37.8                    35   \n",
              "1  2/01/2009                      43.2                    32   \n",
              "2  3/01/2009                      25.7                    60   \n",
              "3  4/01/2009                       9.3                    67   \n",
              "4  5/01/2009                      23.5                    30   \n",
              "\n",
              "   Average dewpoint (°F)  Average barometer (in)  Average windspeed (mph)  \\\n",
              "0                   12.7                    29.7                     26.4   \n",
              "1                   14.7                    29.5                     12.8   \n",
              "2                   12.7                    29.7                      8.3   \n",
              "3                    0.1                    30.4                      2.9   \n",
              "4                   -5.3                    29.9                     16.7   \n",
              "\n",
              "   Average gustspeed (mph)  Average direction (°deg)  Rainfall for month (in)  \\\n",
              "0                     36.8                       274                      0.0   \n",
              "1                     18.0                       240                      0.0   \n",
              "2                     12.2                       290                      0.0   \n",
              "3                      4.5                        47                      0.0   \n",
              "4                     23.1                       265                      0.0   \n",
              "\n",
              "   Rainfall for year (in)  Maximum rain per minute   Maximum temperature (°F)  \\\n",
              "0                     0.0                       0.0                      40.1   \n",
              "1                     0.0                       0.0                      52.8   \n",
              "2                     0.0                       0.0                      41.2   \n",
              "3                     0.0                       0.0                      19.4   \n",
              "4                     0.0                       0.0                      30.3   \n",
              "\n",
              "   Minimum temperature (°F)  Maximum humidity (%)  Minimum humidity (%)  \\\n",
              "0                      34.5                    44                    27   \n",
              "1                      37.5                    43                    16   \n",
              "2                       6.7                    89                    35   \n",
              "3                      -0.0                    79                    35   \n",
              "4                      15.1                    56                    13   \n",
              "\n",
              "   Maximum pressure   Minimum pressure   Maximum windspeed (mph)  \\\n",
              "0             29.762             29.596                     41.4   \n",
              "1             29.669             29.268                     35.7   \n",
              "2             30.232             29.260                     25.3   \n",
              "3             30.566             30.227                     12.7   \n",
              "4             30.233             29.568                     38.0   \n",
              "\n",
              "   Maximum gust speed (mph)  Maximum heat index (°F)  \n",
              "0                      59.0                     40.1  \n",
              "1                      51.0                     52.8  \n",
              "2                      38.0                     41.2  \n",
              "3                      20.0                     32.0  \n",
              "4                      53.0                     32.0  "
            ],
            "text/html": [
              "\n",
              "  <div id=\"df-073672bf-1150-4255-825f-62f051e5a492\">\n",
              "    <div class=\"colab-df-container\">\n",
              "      <div>\n",
              "<style scoped>\n",
              "    .dataframe tbody tr th:only-of-type {\n",
              "        vertical-align: middle;\n",
              "    }\n",
              "\n",
              "    .dataframe tbody tr th {\n",
              "        vertical-align: top;\n",
              "    }\n",
              "\n",
              "    .dataframe thead th {\n",
              "        text-align: right;\n",
              "    }\n",
              "</style>\n",
              "<table border=\"1\" class=\"dataframe\">\n",
              "  <thead>\n",
              "    <tr style=\"text-align: right;\">\n",
              "      <th></th>\n",
              "      <th>Day</th>\n",
              "      <th>Average temperature (°F)</th>\n",
              "      <th>Average humidity (%)</th>\n",
              "      <th>Average dewpoint (°F)</th>\n",
              "      <th>Average barometer (in)</th>\n",
              "      <th>Average windspeed (mph)</th>\n",
              "      <th>Average gustspeed (mph)</th>\n",
              "      <th>Average direction (°deg)</th>\n",
              "      <th>Rainfall for month (in)</th>\n",
              "      <th>Rainfall for year (in)</th>\n",
              "      <th>Maximum rain per minute</th>\n",
              "      <th>Maximum temperature (°F)</th>\n",
              "      <th>Minimum temperature (°F)</th>\n",
              "      <th>Maximum humidity (%)</th>\n",
              "      <th>Minimum humidity (%)</th>\n",
              "      <th>Maximum pressure</th>\n",
              "      <th>Minimum pressure</th>\n",
              "      <th>Maximum windspeed (mph)</th>\n",
              "      <th>Maximum gust speed (mph)</th>\n",
              "      <th>Maximum heat index (°F)</th>\n",
              "    </tr>\n",
              "  </thead>\n",
              "  <tbody>\n",
              "    <tr>\n",
              "      <th>0</th>\n",
              "      <td>1/01/2009</td>\n",
              "      <td>37.8</td>\n",
              "      <td>35</td>\n",
              "      <td>12.7</td>\n",
              "      <td>29.7</td>\n",
              "      <td>26.4</td>\n",
              "      <td>36.8</td>\n",
              "      <td>274</td>\n",
              "      <td>0.0</td>\n",
              "      <td>0.0</td>\n",
              "      <td>0.0</td>\n",
              "      <td>40.1</td>\n",
              "      <td>34.5</td>\n",
              "      <td>44</td>\n",
              "      <td>27</td>\n",
              "      <td>29.762</td>\n",
              "      <td>29.596</td>\n",
              "      <td>41.4</td>\n",
              "      <td>59.0</td>\n",
              "      <td>40.1</td>\n",
              "    </tr>\n",
              "    <tr>\n",
              "      <th>1</th>\n",
              "      <td>2/01/2009</td>\n",
              "      <td>43.2</td>\n",
              "      <td>32</td>\n",
              "      <td>14.7</td>\n",
              "      <td>29.5</td>\n",
              "      <td>12.8</td>\n",
              "      <td>18.0</td>\n",
              "      <td>240</td>\n",
              "      <td>0.0</td>\n",
              "      <td>0.0</td>\n",
              "      <td>0.0</td>\n",
              "      <td>52.8</td>\n",
              "      <td>37.5</td>\n",
              "      <td>43</td>\n",
              "      <td>16</td>\n",
              "      <td>29.669</td>\n",
              "      <td>29.268</td>\n",
              "      <td>35.7</td>\n",
              "      <td>51.0</td>\n",
              "      <td>52.8</td>\n",
              "    </tr>\n",
              "    <tr>\n",
              "      <th>2</th>\n",
              "      <td>3/01/2009</td>\n",
              "      <td>25.7</td>\n",
              "      <td>60</td>\n",
              "      <td>12.7</td>\n",
              "      <td>29.7</td>\n",
              "      <td>8.3</td>\n",
              "      <td>12.2</td>\n",
              "      <td>290</td>\n",
              "      <td>0.0</td>\n",
              "      <td>0.0</td>\n",
              "      <td>0.0</td>\n",
              "      <td>41.2</td>\n",
              "      <td>6.7</td>\n",
              "      <td>89</td>\n",
              "      <td>35</td>\n",
              "      <td>30.232</td>\n",
              "      <td>29.260</td>\n",
              "      <td>25.3</td>\n",
              "      <td>38.0</td>\n",
              "      <td>41.2</td>\n",
              "    </tr>\n",
              "    <tr>\n",
              "      <th>3</th>\n",
              "      <td>4/01/2009</td>\n",
              "      <td>9.3</td>\n",
              "      <td>67</td>\n",
              "      <td>0.1</td>\n",
              "      <td>30.4</td>\n",
              "      <td>2.9</td>\n",
              "      <td>4.5</td>\n",
              "      <td>47</td>\n",
              "      <td>0.0</td>\n",
              "      <td>0.0</td>\n",
              "      <td>0.0</td>\n",
              "      <td>19.4</td>\n",
              "      <td>-0.0</td>\n",
              "      <td>79</td>\n",
              "      <td>35</td>\n",
              "      <td>30.566</td>\n",
              "      <td>30.227</td>\n",
              "      <td>12.7</td>\n",
              "      <td>20.0</td>\n",
              "      <td>32.0</td>\n",
              "    </tr>\n",
              "    <tr>\n",
              "      <th>4</th>\n",
              "      <td>5/01/2009</td>\n",
              "      <td>23.5</td>\n",
              "      <td>30</td>\n",
              "      <td>-5.3</td>\n",
              "      <td>29.9</td>\n",
              "      <td>16.7</td>\n",
              "      <td>23.1</td>\n",
              "      <td>265</td>\n",
              "      <td>0.0</td>\n",
              "      <td>0.0</td>\n",
              "      <td>0.0</td>\n",
              "      <td>30.3</td>\n",
              "      <td>15.1</td>\n",
              "      <td>56</td>\n",
              "      <td>13</td>\n",
              "      <td>30.233</td>\n",
              "      <td>29.568</td>\n",
              "      <td>38.0</td>\n",
              "      <td>53.0</td>\n",
              "      <td>32.0</td>\n",
              "    </tr>\n",
              "  </tbody>\n",
              "</table>\n",
              "</div>\n",
              "      <button class=\"colab-df-convert\" onclick=\"convertToInteractive('df-073672bf-1150-4255-825f-62f051e5a492')\"\n",
              "              title=\"Convert this dataframe to an interactive table.\"\n",
              "              style=\"display:none;\">\n",
              "        \n",
              "  <svg xmlns=\"http://www.w3.org/2000/svg\" height=\"24px\"viewBox=\"0 0 24 24\"\n",
              "       width=\"24px\">\n",
              "    <path d=\"M0 0h24v24H0V0z\" fill=\"none\"/>\n",
              "    <path d=\"M18.56 5.44l.94 2.06.94-2.06 2.06-.94-2.06-.94-.94-2.06-.94 2.06-2.06.94zm-11 1L8.5 8.5l.94-2.06 2.06-.94-2.06-.94L8.5 2.5l-.94 2.06-2.06.94zm10 10l.94 2.06.94-2.06 2.06-.94-2.06-.94-.94-2.06-.94 2.06-2.06.94z\"/><path d=\"M17.41 7.96l-1.37-1.37c-.4-.4-.92-.59-1.43-.59-.52 0-1.04.2-1.43.59L10.3 9.45l-7.72 7.72c-.78.78-.78 2.05 0 2.83L4 21.41c.39.39.9.59 1.41.59.51 0 1.02-.2 1.41-.59l7.78-7.78 2.81-2.81c.8-.78.8-2.07 0-2.86zM5.41 20L4 18.59l7.72-7.72 1.47 1.35L5.41 20z\"/>\n",
              "  </svg>\n",
              "      </button>\n",
              "      \n",
              "  <style>\n",
              "    .colab-df-container {\n",
              "      display:flex;\n",
              "      flex-wrap:wrap;\n",
              "      gap: 12px;\n",
              "    }\n",
              "\n",
              "    .colab-df-convert {\n",
              "      background-color: #E8F0FE;\n",
              "      border: none;\n",
              "      border-radius: 50%;\n",
              "      cursor: pointer;\n",
              "      display: none;\n",
              "      fill: #1967D2;\n",
              "      height: 32px;\n",
              "      padding: 0 0 0 0;\n",
              "      width: 32px;\n",
              "    }\n",
              "\n",
              "    .colab-df-convert:hover {\n",
              "      background-color: #E2EBFA;\n",
              "      box-shadow: 0px 1px 2px rgba(60, 64, 67, 0.3), 0px 1px 3px 1px rgba(60, 64, 67, 0.15);\n",
              "      fill: #174EA6;\n",
              "    }\n",
              "\n",
              "    [theme=dark] .colab-df-convert {\n",
              "      background-color: #3B4455;\n",
              "      fill: #D2E3FC;\n",
              "    }\n",
              "\n",
              "    [theme=dark] .colab-df-convert:hover {\n",
              "      background-color: #434B5C;\n",
              "      box-shadow: 0px 1px 3px 1px rgba(0, 0, 0, 0.15);\n",
              "      filter: drop-shadow(0px 1px 2px rgba(0, 0, 0, 0.3));\n",
              "      fill: #FFFFFF;\n",
              "    }\n",
              "  </style>\n",
              "\n",
              "      <script>\n",
              "        const buttonEl =\n",
              "          document.querySelector('#df-073672bf-1150-4255-825f-62f051e5a492 button.colab-df-convert');\n",
              "        buttonEl.style.display =\n",
              "          google.colab.kernel.accessAllowed ? 'block' : 'none';\n",
              "\n",
              "        async function convertToInteractive(key) {\n",
              "          const element = document.querySelector('#df-073672bf-1150-4255-825f-62f051e5a492');\n",
              "          const dataTable =\n",
              "            await google.colab.kernel.invokeFunction('convertToInteractive',\n",
              "                                                     [key], {});\n",
              "          if (!dataTable) return;\n",
              "\n",
              "          const docLinkHtml = 'Like what you see? Visit the ' +\n",
              "            '<a target=\"_blank\" href=https://colab.research.google.com/notebooks/data_table.ipynb>data table notebook</a>'\n",
              "            + ' to learn more about interactive tables.';\n",
              "          element.innerHTML = '';\n",
              "          dataTable['output_type'] = 'display_data';\n",
              "          await google.colab.output.renderOutput(dataTable, element);\n",
              "          const docLink = document.createElement('div');\n",
              "          docLink.innerHTML = docLinkHtml;\n",
              "          element.appendChild(docLink);\n",
              "        }\n",
              "      </script>\n",
              "    </div>\n",
              "  </div>\n",
              "  "
            ]
          },
          "metadata": {},
          "execution_count": 3
        }
      ]
    },
    {
      "cell_type": "code",
      "source": [
        "# Non null value represents clean data\n",
        "df.info() "
      ],
      "metadata": {
        "colab": {
          "base_uri": "https://localhost:8080/"
        },
        "id": "JOoZ8QLxVw9q",
        "outputId": "63f40e71-af3f-4d2a-db93-3c2ee4468d9d"
      },
      "execution_count": 4,
      "outputs": [
        {
          "output_type": "stream",
          "name": "stdout",
          "text": [
            "<class 'pandas.core.frame.DataFrame'>\n",
            "RangeIndex: 3280 entries, 0 to 3279\n",
            "Data columns (total 20 columns):\n",
            " #   Column                    Non-Null Count  Dtype  \n",
            "---  ------                    --------------  -----  \n",
            " 0   Day                       3280 non-null   object \n",
            " 1   Average temperature (°F)  3280 non-null   float64\n",
            " 2   Average humidity (%)      3280 non-null   int64  \n",
            " 3   Average dewpoint (°F)     3280 non-null   float64\n",
            " 4   Average barometer (in)    3280 non-null   float64\n",
            " 5   Average windspeed (mph)   3280 non-null   float64\n",
            " 6   Average gustspeed (mph)   3280 non-null   float64\n",
            " 7   Average direction (°deg)  3280 non-null   int64  \n",
            " 8   Rainfall for month (in)   3280 non-null   float64\n",
            " 9   Rainfall for year (in)    3280 non-null   float64\n",
            " 10  Maximum rain per minute   3280 non-null   float64\n",
            " 11  Maximum temperature (°F)  3280 non-null   float64\n",
            " 12  Minimum temperature (°F)  3280 non-null   float64\n",
            " 13  Maximum humidity (%)      3280 non-null   int64  \n",
            " 14  Minimum humidity (%)      3280 non-null   int64  \n",
            " 15  Maximum pressure          3280 non-null   float64\n",
            " 16  Minimum pressure          3280 non-null   float64\n",
            " 17  Maximum windspeed (mph)   3280 non-null   float64\n",
            " 18  Maximum gust speed (mph)  3280 non-null   float64\n",
            " 19  Maximum heat index (°F)   3280 non-null   float64\n",
            "dtypes: float64(15), int64(4), object(1)\n",
            "memory usage: 512.6+ KB\n"
          ]
        }
      ]
    },
    {
      "cell_type": "markdown",
      "source": [
        "## What is the standard deviation of maximum windspeed across all the days"
      ],
      "metadata": {
        "id": "5zOGyA3Q7q3P"
      }
    },
    {
      "cell_type": "code",
      "source": [
        "df.boxplot(column='Maximum windspeed (mph)',vert=False,grid=False)"
      ],
      "metadata": {
        "colab": {
          "base_uri": "https://localhost:8080/",
          "height": 282
        },
        "id": "aXO6bLSJbWdO",
        "outputId": "2e20f7d3-4715-4591-bcd9-7511579c6d8d"
      },
      "execution_count": 5,
      "outputs": [
        {
          "output_type": "execute_result",
          "data": {
            "text/plain": [
              "<matplotlib.axes._subplots.AxesSubplot at 0x7f4c53c7be50>"
            ]
          },
          "metadata": {},
          "execution_count": 5
        },
        {
          "output_type": "display_data",
          "data": {
            "text/plain": [
              "<Figure size 432x288 with 1 Axes>"
            ],
            "image/png": "[encoded data removed]"
          },
          "metadata": {
            "needs_background": "light"
          }
        }
      ]
    },
    {
      "cell_type": "markdown",
      "source": [
        "The Above graph shows that value of dataframe['Maximum windspeed (mph)'] is not required above 75(approx.)"
      ],
      "metadata": {
        "id": "mUdz2sJ_hH3t"
      }
    },
    {
      "cell_type": "code",
      "source": [
        "df['Maximum windspeed (mph)'].describe()"
      ],
      "metadata": {
        "colab": {
          "base_uri": "https://localhost:8080/"
        },
        "id": "4NwgKbeTPupN",
        "outputId": "768ff15c-796b-42a8-9ddb-38afef8b2d71"
      },
      "execution_count": 6,
      "outputs": [
        {
          "output_type": "execute_result",
          "data": {
            "text/plain": [
              "count    3280.000000\n",
              "mean       20.059665\n",
              "std        13.060875\n",
              "min         0.000000\n",
              "25%        13.800000\n",
              "50%        18.400000\n",
              "75%        24.200000\n",
              "max       181.700000\n",
              "Name: Maximum windspeed (mph), dtype: float64"
            ]
          },
          "metadata": {},
          "execution_count": 6
        }
      ]
    },
    {
      "cell_type": "code",
      "source": [
        "ws_std = df['Maximum windspeed (mph)'].std()\n",
        "print(\"ws_std = {:.2f}\".format(ws_std))"
      ],
      "metadata": {
        "colab": {
          "base_uri": "https://localhost:8080/"
        },
        "id": "UquTFoA8P2LL",
        "outputId": "3f6755ae-04af-4db1-f1c0-5e68f4eceb1e"
      },
      "execution_count": 7,
      "outputs": [
        {
          "output_type": "stream",
          "name": "stdout",
          "text": [
            "ws_std = 13.06\n"
          ]
        }
      ]
    },
    {
      "cell_type": "markdown",
      "source": [
        "## What is the difference between 50th percentile and 75th percentile of average temperature"
      ],
      "metadata": {
        "id": "E-RWOXueVyw-"
      }
    },
    {
      "cell_type": "code",
      "source": [
        "df['Average temperature (°F)'].describe()"
      ],
      "metadata": {
        "colab": {
          "base_uri": "https://localhost:8080/"
        },
        "id": "8oZAC2UvQV8_",
        "outputId": "9e02091a-23d7-4679-8b30-f24022d1dc06"
      },
      "execution_count": 8,
      "outputs": [
        {
          "output_type": "execute_result",
          "data": {
            "text/plain": [
              "count    3280.000000\n",
              "mean       45.162896\n",
              "std        15.188165\n",
              "min       -12.100000\n",
              "25%        34.500000\n",
              "50%        45.900000\n",
              "75%        58.100000\n",
              "max        76.300000\n",
              "Name: Average temperature (°F), dtype: float64"
            ]
          },
          "metadata": {},
          "execution_count": 8
        }
      ]
    },
    {
      "cell_type": "code",
      "source": [
        "p_range = (df['Average temperature (°F)'].quantile(0.75)-df['Average temperature (°F)'].quantile(0.5)).round(2)\n",
        "print(\"p_range = {:.2f}\".format(p_range) )"
      ],
      "metadata": {
        "colab": {
          "base_uri": "https://localhost:8080/"
        },
        "id": "jC4_TgHpV34-",
        "outputId": "d6db96b9-8305-451b-f0f9-2c5e71ed364a"
      },
      "execution_count": 9,
      "outputs": [
        {
          "output_type": "stream",
          "name": "stdout",
          "text": [
            "p_range = 12.20\n"
          ]
        }
      ]
    },
    {
      "cell_type": "markdown",
      "source": [
        "## What is the pearson correlation between average dew point and average temperature"
      ],
      "metadata": {
        "id": "U45DpIuLWnhH"
      }
    },
    {
      "cell_type": "code",
      "source": [
        "col = ['Average dewpoint (°F)','Average temperature (°F)']\n",
        "corr = df[col].corr(method='pearson').loc[col[0], col[1]].round(2)\n",
        "print(\"corr = {:.2f}\".format(corr))"
      ],
      "metadata": {
        "colab": {
          "base_uri": "https://localhost:8080/"
        },
        "id": "DfMEIP5UWC4Z",
        "outputId": "d0a584bd-f98c-4b8b-895a-b8a2caaa5b5f"
      },
      "execution_count": 10,
      "outputs": [
        {
          "output_type": "stream",
          "name": "stdout",
          "text": [
            "corr = 0.76\n"
          ]
        }
      ]
    },
    {
      "cell_type": "markdown",
      "source": [
        "## Out of all the available records which month has the lowest average humidity.\n",
        "    -   Assign your answer as month index, for example if its July index is 7\n",
        "\n"
      ],
      "metadata": {
        "id": "bSHaqLYzXdNj"
      }
    },
    {
      "cell_type": "code",
      "source": [
        "dew_month = pd.to_datetime((df['Day'].iloc[df['Average humidity (%)'].idxmin()])).month \n",
        "print(\"dew_month = {}\".format(dew_month))"
      ],
      "metadata": {
        "colab": {
          "base_uri": "https://localhost:8080/"
        },
        "id": "vC7XT9tOW5TP",
        "outputId": "dea9adea-75d2-48c3-9401-a58745bde72b"
      },
      "execution_count": 11,
      "outputs": [
        {
          "output_type": "stream",
          "name": "stdout",
          "text": [
            "dew_month = 1\n"
          ]
        }
      ]
    },
    {
      "cell_type": "markdown",
      "source": [
        "## Which month has the highest median for maximum_gust_speed out of all the available records. Also find the repective value\n",
        "    - hint: group by month"
      ],
      "metadata": {
        "id": "muD-InQQX6Bi"
      }
    },
    {
      "cell_type": "code",
      "source": [
        "df1 = df.loc[:, ['Day', 'Maximum gust speed (mph)']]\n",
        "df1['Day'] = pd.to_datetime(df1['Day'], format = \"%d/%m/%Y\")\n",
        "df1['month'] = df1['Day'].apply(lambda x : x.strftime('%m'))\n",
        "a = df1.groupby('month').agg({'Maximum gust speed (mph)':np.median}).reset_index()\n",
        "max_gust_value = a['Maximum gust speed (mph)'].max()\n",
        "print(\"max_gust_value = {:.2f}\".format(max_gust_value))"
      ],
      "metadata": {
        "colab": {
          "base_uri": "https://localhost:8080/"
        },
        "id": "iJ_E8HhaX2D7",
        "outputId": "22434cb1-03e4-4bba-a69b-c5412b988a73"
      },
      "execution_count": 12,
      "outputs": [
        {
          "output_type": "stream",
          "name": "stdout",
          "text": [
            "max_gust_value = 34.50\n"
          ]
        }
      ]
    },
    {
      "cell_type": "code",
      "source": [
        "max_gust_month = a['month'].iloc[a['Maximum gust speed (mph)'].idxmax()]\n",
        "print(\"max_gust_month = {}\".format(int(max_gust_month)))"
      ],
      "metadata": {
        "colab": {
          "base_uri": "https://localhost:8080/"
        },
        "id": "jO5HjlFQYJ8g",
        "outputId": "2f1f148d-550f-4486-b072-848b43c6d04d"
      },
      "execution_count": 13,
      "outputs": [
        {
          "output_type": "stream",
          "name": "stdout",
          "text": [
            "max_gust_month = 2\n"
          ]
        }
      ]
    },
    {
      "cell_type": "markdown",
      "source": [
        "## Determine the average temperature between the months of March 2010 to May 2012 (including both the months)"
      ],
      "metadata": {
        "id": "Y4SagWG1YUzC"
      }
    },
    {
      "cell_type": "code",
      "source": [
        "start = pd.to_datetime('1/3/2010', format = \"%d/%m/%Y\")\n",
        "end = pd.to_datetime('31/5/2012', format = \"%d/%m/%Y\")\n",
        "df1 = df.loc[:, ['Day', 'Average temperature (°F)']]\n",
        "df1['Day'] = pd.to_datetime(df1['Day'], format = \"%d/%m/%Y\")\n",
        "mask = (df1['Day']>=start) & (df1['Day']<=end)\n",
        "df1 = df1.loc[mask]\n",
        "avg_temp = df1['Average temperature (°F)'].mean()\n",
        "print(\"avg_temp = {:.2f}\".format(avg_temp))"
      ],
      "metadata": {
        "colab": {
          "base_uri": "https://localhost:8080/"
        },
        "id": "MzkSmMRzYRpV",
        "outputId": "d0d91f5e-0871-4b2c-f66c-17fafbf1de9a"
      },
      "execution_count": 14,
      "outputs": [
        {
          "output_type": "stream",
          "name": "stdout",
          "text": [
            "avg_temp = 45.33\n"
          ]
        }
      ]
    },
    {
      "cell_type": "markdown",
      "source": [
        "## Find the range of averange temperature on Dec 2010"
      ],
      "metadata": {
        "id": "CuyGaIEGY8kL"
      }
    },
    {
      "cell_type": "code",
      "source": [
        "start = pd.to_datetime('1/12/2010', format = \"%d/%m/%Y\")\n",
        "end = pd.to_datetime('31/12/2010', format = \"%d/%m/%Y\")\n",
        "f1 = df.loc[:, ['Day', 'Average temperature (°F)']]\n",
        "df1['Day'] = pd.to_datetime(df1['Day'], format = \"%d/%m/%Y\")\n",
        "mask = (df1['Day']>=start) & (df1['Day']<=end)\n",
        "df1 = df1.loc[mask]\n",
        "temp_range = df1['Average temperature (°F)'].max() - df1['Average temperature (°F)'].min()\n",
        "print(\"temp_range = {:.2f}\".format(temp_range))"
      ],
      "metadata": {
        "colab": {
          "base_uri": "https://localhost:8080/"
        },
        "id": "eV86tTa_YbKQ",
        "outputId": "e2262409-7c84-4254-8a9a-5620e834e301"
      },
      "execution_count": 15,
      "outputs": [
        {
          "output_type": "stream",
          "name": "stdout",
          "text": [
            "temp_range = 44.80\n"
          ]
        }
      ]
    },
    {
      "cell_type": "markdown",
      "source": [
        "## Out of all available records which day has the highest difference between maximum_pressure and minimum_pressure\n",
        "    - assign the date in string format as 'yyyy-mm-dd'. Make sure you enclose it with\n",
        "     single quote"
      ],
      "metadata": {
        "id": "2TtpHlqKZfyt"
      }
    },
    {
      "cell_type": "code",
      "source": [
        "df1 = df.loc[:, ['Day','Maximum pressure ','Minimum pressure ']]\n",
        "df1.Day = pd.DatetimeIndex(df['Day']).strftime(\"'%Y-%m-%d'\")\n",
        "df1['Diff'] = df['Maximum pressure ']-df['Minimum pressure ']\n",
        "df1.head()"
      ],
      "metadata": {
        "colab": {
          "base_uri": "https://localhost:8080/",
          "height": 206
        },
        "id": "4y5EeDWvZcDB",
        "outputId": "50a86729-4d4b-4f92-c7e7-a4660627b20a"
      },
      "execution_count": 16,
      "outputs": [
        {
          "output_type": "execute_result",
          "data": {
            "text/plain": [
              "            Day  Maximum pressure   Minimum pressure    Diff\n",
              "0  '2009-01-01'             29.762             29.596  0.166\n",
              "1  '2009-02-01'             29.669             29.268  0.401\n",
              "2  '2009-03-01'             30.232             29.260  0.972\n",
              "3  '2009-04-01'             30.566             30.227  0.339\n",
              "4  '2009-05-01'             30.233             29.568  0.665"
            ],
            "text/html": [
              "\n",
              "  <div id=\"df-1e8915db-be56-495e-9bbc-ec50c4e38d51\">\n",
              "    <div class=\"colab-df-container\">\n",
              "      <div>\n",
              "<style scoped>\n",
              "    .dataframe tbody tr th:only-of-type {\n",
              "        vertical-align: middle;\n",
              "    }\n",
              "\n",
              "    .dataframe tbody tr th {\n",
              "        vertical-align: top;\n",
              "    }\n",
              "\n",
              "    .dataframe thead th {\n",
              "        text-align: right;\n",
              "    }\n",
              "</style>\n",
              "<table border=\"1\" class=\"dataframe\">\n",
              "  <thead>\n",
              "    <tr style=\"text-align: right;\">\n",
              "      <th></th>\n",
              "      <th>Day</th>\n",
              "      <th>Maximum pressure</th>\n",
              "      <th>Minimum pressure</th>\n",
              "      <th>Diff</th>\n",
              "    </tr>\n",
              "  </thead>\n",
              "  <tbody>\n",
              "    <tr>\n",
              "      <th>0</th>\n",
              "      <td>'2009-01-01'</td>\n",
              "      <td>29.762</td>\n",
              "      <td>29.596</td>\n",
              "      <td>0.166</td>\n",
              "    </tr>\n",
              "    <tr>\n",
              "      <th>1</th>\n",
              "      <td>'2009-02-01'</td>\n",
              "      <td>29.669</td>\n",
              "      <td>29.268</td>\n",
              "      <td>0.401</td>\n",
              "    </tr>\n",
              "    <tr>\n",
              "      <th>2</th>\n",
              "      <td>'2009-03-01'</td>\n",
              "      <td>30.232</td>\n",
              "      <td>29.260</td>\n",
              "      <td>0.972</td>\n",
              "    </tr>\n",
              "    <tr>\n",
              "      <th>3</th>\n",
              "      <td>'2009-04-01'</td>\n",
              "      <td>30.566</td>\n",
              "      <td>30.227</td>\n",
              "      <td>0.339</td>\n",
              "    </tr>\n",
              "    <tr>\n",
              "      <th>4</th>\n",
              "      <td>'2009-05-01'</td>\n",
              "      <td>30.233</td>\n",
              "      <td>29.568</td>\n",
              "      <td>0.665</td>\n",
              "    </tr>\n",
              "  </tbody>\n",
              "</table>\n",
              "</div>\n",
              "      <button class=\"colab-df-convert\" onclick=\"convertToInteractive('df-1e8915db-be56-495e-9bbc-ec50c4e38d51')\"\n",
              "              title=\"Convert this dataframe to an interactive table.\"\n",
              "              style=\"display:none;\">\n",
              "        \n",
              "  <svg xmlns=\"http://www.w3.org/2000/svg\" height=\"24px\"viewBox=\"0 0 24 24\"\n",
              "       width=\"24px\">\n",
              "    <path d=\"M0 0h24v24H0V0z\" fill=\"none\"/>\n",
              "    <path d=\"M18.56 5.44l.94 2.06.94-2.06 2.06-.94-2.06-.94-.94-2.06-.94 2.06-2.06.94zm-11 1L8.5 8.5l.94-2.06 2.06-.94-2.06-.94L8.5 2.5l-.94 2.06-2.06.94zm10 10l.94 2.06.94-2.06 2.06-.94-2.06-.94-.94-2.06-.94 2.06-2.06.94z\"/><path d=\"M17.41 7.96l-1.37-1.37c-.4-.4-.92-.59-1.43-.59-.52 0-1.04.2-1.43.59L10.3 9.45l-7.72 7.72c-.78.78-.78 2.05 0 2.83L4 21.41c.39.39.9.59 1.41.59.51 0 1.02-.2 1.41-.59l7.78-7.78 2.81-2.81c.8-.78.8-2.07 0-2.86zM5.41 20L4 18.59l7.72-7.72 1.47 1.35L5.41 20z\"/>\n",
              "  </svg>\n",
              "      </button>\n",
              "      \n",
              "  <style>\n",
              "    .colab-df-container {\n",
              "      display:flex;\n",
              "      flex-wrap:wrap;\n",
              "      gap: 12px;\n",
              "    }\n",
              "\n",
              "    .colab-df-convert {\n",
              "      background-color: #E8F0FE;\n",
              "      border: none;\n",
              "      border-radius: 50%;\n",
              "      cursor: pointer;\n",
              "      display: none;\n",
              "      fill: #1967D2;\n",
              "      height: 32px;\n",
              "      padding: 0 0 0 0;\n",
              "      width: 32px;\n",
              "    }\n",
              "\n",
              "    .colab-df-convert:hover {\n",
              "      background-color: #E2EBFA;\n",
              "      box-shadow: 0px 1px 2px rgba(60, 64, 67, 0.3), 0px 1px 3px 1px rgba(60, 64, 67, 0.15);\n",
              "      fill: #174EA6;\n",
              "    }\n",
              "\n",
              "    [theme=dark] .colab-df-convert {\n",
              "      background-color: #3B4455;\n",
              "      fill: #D2E3FC;\n",
              "    }\n",
              "\n",
              "    [theme=dark] .colab-df-convert:hover {\n",
              "      background-color: #434B5C;\n",
              "      box-shadow: 0px 1px 3px 1px rgba(0, 0, 0, 0.15);\n",
              "      filter: drop-shadow(0px 1px 2px rgba(0, 0, 0, 0.3));\n",
              "      fill: #FFFFFF;\n",
              "    }\n",
              "  </style>\n",
              "\n",
              "      <script>\n",
              "        const buttonEl =\n",
              "          document.querySelector('#df-1e8915db-be56-495e-9bbc-ec50c4e38d51 button.colab-df-convert');\n",
              "        buttonEl.style.display =\n",
              "          google.colab.kernel.accessAllowed ? 'block' : 'none';\n",
              "\n",
              "        async function convertToInteractive(key) {\n",
              "          const element = document.querySelector('#df-1e8915db-be56-495e-9bbc-ec50c4e38d51');\n",
              "          const dataTable =\n",
              "            await google.colab.kernel.invokeFunction('convertToInteractive',\n",
              "                                                     [key], {});\n",
              "          if (!dataTable) return;\n",
              "\n",
              "          const docLinkHtml = 'Like what you see? Visit the ' +\n",
              "            '<a target=\"_blank\" href=https://colab.research.google.com/notebooks/data_table.ipynb>data table notebook</a>'\n",
              "            + ' to learn more about interactive tables.';\n",
              "          element.innerHTML = '';\n",
              "          dataTable['output_type'] = 'display_data';\n",
              "          await google.colab.output.renderOutput(dataTable, element);\n",
              "          const docLink = document.createElement('div');\n",
              "          docLink.innerHTML = docLinkHtml;\n",
              "          element.appendChild(docLink);\n",
              "        }\n",
              "      </script>\n",
              "    </div>\n",
              "  </div>\n",
              "  "
            ]
          },
          "metadata": {},
          "execution_count": 16
        }
      ]
    },
    {
      "cell_type": "code",
      "source": [
        "max_p_range_day = df1[df1['Diff'] == df1['Diff'].max()]['Day'].iloc[0]\n",
        "print(\"max_p_range_day = \", max_p_range_day)"
      ],
      "metadata": {
        "colab": {
          "base_uri": "https://localhost:8080/"
        },
        "id": "DNkgIec1Zo6W",
        "outputId": "3195e439-0fab-4559-8d2f-a1b4fb6d9338"
      },
      "execution_count": 17,
      "outputs": [
        {
          "output_type": "stream",
          "name": "stdout",
          "text": [
            "max_p_range_day =  '2018-03-23'\n"
          ]
        }
      ]
    },
    {
      "cell_type": "markdown",
      "source": [
        "## How many days falls under median (i.e equal to median value) of barrometer reading.\n"
      ],
      "metadata": {
        "id": "7-ocfld7ZxCd"
      }
    },
    {
      "cell_type": "code",
      "source": [
        "median_b_days = df[df['Average barometer (in)'] == df['Average barometer (in)'].median()]['Day'].count()\n",
        "print(\"median_b_days = {}\".format(median_b_days))"
      ],
      "metadata": {
        "colab": {
          "base_uri": "https://localhost:8080/"
        },
        "id": "xm1NSMBJZt6H",
        "outputId": "54937273-c73c-490f-8ecd-70b6b7fe4914"
      },
      "execution_count": 18,
      "outputs": [
        {
          "output_type": "stream",
          "name": "stdout",
          "text": [
            "median_b_days = 534\n"
          ]
        }
      ]
    },
    {
      "cell_type": "markdown",
      "source": [
        "## Out of all the available records how many days are within one standard deviation of average temperaturem"
      ],
      "metadata": {
        "id": "BZhmpS3XaDds"
      }
    },
    {
      "cell_type": "code",
      "source": [
        "mean, std = df['Average temperature (°F)'].mean(), df['Average temperature (°F)'].std()\n",
        "print(mean, std)\n",
        "range = list(map(lambda x: round(x,2),[mean-std, mean+std]))\n",
        "print(range)\n",
        "num_days_std = df[(df['Average temperature (°F)']>=range[0]) & (df['Average temperature (°F)']<= range[1])]['Day'].count()\n",
        "print(\"num_days_std = {}\".format(num_days_std))\n",
        "# num_days_std.describe()"
      ],
      "metadata": {
        "colab": {
          "base_uri": "https://localhost:8080/"
        },
        "id": "Phj4NVsiaARX",
        "outputId": "4cc33ae6-ae30-4afe-a1c1-252379ca91bd"
      },
      "execution_count": 19,
      "outputs": [
        {
          "output_type": "stream",
          "name": "stdout",
          "text": [
            "45.16289634146344 15.188164868884023\n",
            "[29.97, 60.35]\n",
            "num_days_std = 2092\n"
          ]
        }
      ]
    }
  ]
}